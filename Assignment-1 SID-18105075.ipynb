{
 "cells": [
  {
   "cell_type": "markdown",
   "id": "f19f729b",
   "metadata": {},
   "source": [
    "## Raman Tayal\n",
    "## SID :- 18105075 "
   ]
  },
  {
   "cell_type": "code",
   "execution_count": 1,
   "id": "99748008",
   "metadata": {},
   "outputs": [],
   "source": [
    "import pandas as pd\n",
    "import numpy as np"
   ]
  },
  {
   "cell_type": "markdown",
   "id": "af7fbe25",
   "metadata": {},
   "source": [
    "### 1. Create Dataset"
   ]
  },
  {
   "cell_type": "code",
   "execution_count": 2,
   "id": "4a82fab2",
   "metadata": {},
   "outputs": [
    {
     "name": "stdout",
     "output_type": "stream",
     "text": [
      " Our data Looks as ( printing first 4 lines ) \n",
      "[3.0 22.0 1.0 3 7.25 0.0]\n",
      "[1.0 38.0 1.0 4 71.2833 1.0]\n",
      "[3.0 26.0 None 5 7.925 1.0]\n",
      "[1.0 35.0 1.0 6 53.1 1.0]\n"
     ]
    }
   ],
   "source": [
    "data = np.array([ [3.0, 22.0, 1.0, 3, 7.25, 0.0],\n",
    "       [1.0, 38.0, 1.0, 4, 71.2833, 1.0],\n",
    "       [3.0, 26.0, None, 5, 7.925, 1.0],\n",
    "       [1.0, 35.0, 1.0, 6, 53.1, 1.0],\n",
    "       [3.0, 35.0, 6, 7, 8.05, 0.0],\n",
    "       [3.0, None, 7, 8, 8.4583, 0.0],\n",
    "       [1.0, 54.0, 8, 9, 51.8625, 0.0],\n",
    "       [3.0, 2.0, 3.0, 1.0, None, 0.0],\n",
    "       [3.0, 27.0, 10, 2.0, 11.1333, 1.0],\n",
    "       [2.0, 14.0, 1.0, 12, 30.0708, 1.0],\n",
    "       [3.0, 4.0, 1.0, None, 16.7, 1.0],\n",
    "       [1.0, 58.0, 13, 14, 26.55, 1.0],\n",
    "       [3.0, 20.0, 14, 15, 8.05, 0.0],\n",
    "       [3.0, 39.0, 1.0, 5.0, 31.275, 0.0],\n",
    "       [3.0, 14.0, 16, 17, 7.8542, 0.0],\n",
    "       [2.0, 55.0, 17, 18, 16.0, 1.0],\n",
    "       [3.0, 2.0, 4.0, 1.0, 29.125, 0.0],\n",
    "       [2.0, None, 19, 20, 13.0, 1.0],\n",
    "       [3.0, 31.0, 1.0, 21, 18.0, 0.0],\n",
    "       [3.0, None, 21, 22, 7.225, 1.0],\n",
    "       [None, 35.0, 22, 23, 26.0, 0.0],\n",
    "       [2.0, 34.0, 23, 24, 13.0, 1.0],\n",
    "       [3.0, 15.0, 24, 25, 8.0292, 1.0],\n",
    "       [1.0, 28.0, 25, 26, 35.5, 1.0],\n",
    "       [3.0, 8.0, 3.0, 1.0, 21.075, 0.0],\n",
    "       [3.0, 38.0, 1.0, 5.0, 31.3875, 1.0],\n",
    "       [3.0, None, 28, 29, 7.225, 0.0],\n",
    "       [1.0, 19.0, 3.0, None, 263.0, 0.0],\n",
    "       [3.0, None, 30, 31, 7.8792, 1.0],\n",
    "       [3.0, None, 31, 32, 7.8958, 0.0],\n",
    "       [1.0, 40.0, 32, 33, 27.7208, 0.0],\n",
    "       [1.0, None, 1.0, 34, 146.5208, 1.0],\n",
    "       [3.0, None, 34, 35, 7.75, 1.0],\n",
    "       [2.0, 66.0, 35, 36, 10.5, 0.0],\n",
    "       [1.0, 28.0, 1.0, 37, 82.1708, 0.0],\n",
    "       [1.0, 42.0, None, 38, 52.0, 0.0],\n",
    "       [3.0, None, 38, 39, 7.2292, 1.0],\n",
    "       [3.0, 21.0, 39, 40, 8.05, 0.0],\n",
    "       [3.0, 18.0, 2.0, 41, 18.0, 0.0],\n",
    "       [3.0, 14.0, 1.0, 42, 11.2417, 1.0],\n",
    "       [3.0, 40.0, 1.0, 43, 9.475, 0.0],\n",
    "       [2.0, 27.0, 1.0, 44, 21.0, 0.0],\n",
    "       [3.0, None, 44, 45, 7.8958, 0.0],\n",
    "       [2.0, 3.0, 1.0, 2.0, 41.5792, 1.0],\n",
    "       [3.0, 19.0, 46, 47, 7.8792, 1.0],\n",
    "       [3.0, None, 47, 48, 8.05, 0.0],\n",
    "       [3.0, None, 1.0, 49, 15.5, 0.0],\n",
    "       [3.0, None, 49, 50, 7.75, 1.0],\n",
    "       [3.0, None, 2.0, 51, 21.6792, 0.0],\n",
    "       [3.0, 18.0, 1.0, 52, 17.8, 0.0],\n",
    "       [3.0, 7.0, 4.0, 1.0, 39.6875, 0.0],\n",
    "       [3.0, 21.0, 53, 54, 7.8, 0.0],\n",
    "       [1.0, 49.0, 1.0, 55, 76.7292, 1.0],\n",
    "       [2.0, 29.0, 1.0, 56, 26.0, 1.0],\n",
    "       [1.0, 65.0, 56, 1.0, 61.9792, 0.0],\n",
    "       [1.0, None, 57, 58, 35.5, 1.0],\n",
    "       [2.0, 21.0, 58, 59, 10.5, 1.0],\n",
    "       [3.0, 28.5, 59, 60, 7.2292, 0.0],\n",
    "       [2.0, 5.0, 1.0, 2.0, 27.75, 1.0],\n",
    "       [3.0, 11.0, 5.0, 2.0, 46.9, 0.0],\n",
    "       [3.0, 22.0, 62, 63, 7.2292, 0.0],\n",
    "       [None, 38.0, 63, 64, 80.0, 1.0],\n",
    "       [1.0, 45.0, 1.0, 65, 83.475, 0.0],\n",
    "       [3.0, 4.0, 3.0, 2.0, 27.9, 0.0],\n",
    "       [1.0, None, 66, 67, 27.7208, 0.0],\n",
    "       [3.0, None, 1.0, 1.0, 15.2458, 1.0],\n",
    "       [2.0, 29.0, 68, 69, 10.5, 1.0],\n",
    "       [3.0, 19.0, 69, 70, 8.1583, 0.0],\n",
    "       [3.0, 17.0, 4.0, 2.0, 7.925, 1.0],\n",
    "       [None, 26.0, 2.0, 72, 8.6625, 0.0],\n",
    "       [2.0, 32.0, 72, 73, 10.5, 0.0],\n",
    "       [3.0, 16.0, None, 2.0, 46.9, 0.0],\n",
    "       [2.0, 21.0, 74, 75, 73.5, 0.0],\n",
    "       [3.0, 26.0, 1.0, 76, None, 0.0],\n",
    "       [3.0, 32.0, 76, 77, 56.4958, 1.0],\n",
    "       [3.0, 25.0, None, 78, 7.65, 0.0],\n",
    "       [3.0, None, 78, 79, 7.8958, 0.0],\n",
    "       [3.0, None, 79, 80, 8.05, 0.0],\n",
    "       [2.0, 0.83, 80, 2.0, 29.0, 1.0],\n",
    "       [3.0, 30.0, 81, 82, 12.475, 1.0],\n",
    "       [3.0, 22.0, 82, 83, 9.0, 0.0],\n",
    "       [3.0, 29.0, 83, 84, 9.5, 1.0],\n",
    "       [3.0, None, 84, 85, 7.7875, 1.0],\n",
    "       [1.0, 28.0, 85, 86, 47.1, 0.0],\n",
    "       [2.0, 17.0, 86, 87, 10.5, 1.0],\n",
    "       [3.0, 33.0, 3.0, 88, 15.85, 1.0],\n",
    "       [3.0, 16.0, 1.0, 3.0, 34.375, 0.0],\n",
    "       [3.0, None, 89, 90, 8.05, 0.0],\n",
    "       [1.0, 23.0, 3.0, 2.0, 263.0, 1.0],\n",
    "       [3.0, 24.0, 91, 92, 8.05, 0.0],\n",
    "       [3.0, 29.0, 92, None, 8.05, 0.0],\n",
    "       [3.0, 20.0, 93, 94, 7.8542, 0.0],\n",
    "       [1.0, 46.0, 1.0, 95, 61.175, 0.0],\n",
    "       [3.0, 26.0, 1.0, 2.0, 20.575, 0.0],\n",
    "       [None, 59.0, 96, 97, 7.25, 0.0],\n",
    "       [3.0, None, 97, 98, 8.05, 0.0],\n",
    "       [1.0, 71.0, 98, 99, None, 0.0],\n",
    "       [1.0, 23.0, 99, 1.0, 63.3583, 1.0],\n",
    "       [2.0, 34.0, 100, 1.0, 23.0, 1.0],\n",
    "       [2.0, 34.0, 1.0, 102, 26.0, 0.0]], dtype=object)\n",
    "\n",
    "print(\" Our data Looks as ( printing first 4 lines ) \")\n",
    "print(data[0])\n",
    "print(data[1])\n",
    "print(data[2])\n",
    "print(data[3])"
   ]
  },
  {
   "cell_type": "code",
   "execution_count": 3,
   "id": "e687a3d0",
   "metadata": {},
   "outputs": [
    {
     "name": "stdout",
     "output_type": "stream",
     "text": [
      "Total Null Values are :  36\n"
     ]
    }
   ],
   "source": [
    "# lets first see how many nill values our data has \n",
    "cnt_null_values = 0\n",
    "\n",
    "for i in range(100):\n",
    "    for j in range(5):\n",
    "        if data[i,j] == None:\n",
    "            cnt_null_values += 1\n",
    "print( \"Total Null Values are : \", cnt_null_values)"
   ]
  },
  {
   "cell_type": "markdown",
   "id": "b4548e01",
   "metadata": {},
   "source": [
    "### 2. Perform standardization on the feature values without using sklearn.\n"
   ]
  },
  {
   "cell_type": "code",
   "execution_count": 4,
   "id": "606e05c5",
   "metadata": {},
   "outputs": [
    {
     "name": "stdout",
     "output_type": "stream",
     "text": [
      "Data after standarisation ( printing first 4 lines )\n",
      "[0.59 -5.47 -32.03 -37.49 -22.46 0.0]\n",
      "[-1.41 10.53 -32.03 -36.49 41.58 1.0]\n",
      "[0.59 -1.47 None -35.49 -21.78 1.0]\n",
      "[-1.41 7.53 -32.03 -34.49 23.39 1.0]\n"
     ]
    }
   ],
   "source": [
    "for j in range(5):\n",
    "    sum_of_coloumn = 0\n",
    "    cnt_ = 0\n",
    "    for i in range(100):\n",
    "        if data[i,j] is not None:\n",
    "            cnt_ += 1\n",
    "            sum_of_coloumn += data[i,j]\n",
    "    mean_of_column = sum_of_coloumn/cnt_\n",
    "    for i in range(100):\n",
    "        if data[i,j] is not None:\n",
    "            data[i,j] -= mean_of_column\n",
    "            data[i,j] = round(data[i,j],2)\n",
    "            \n",
    "print(\"Data after standarisation ( printing first 4 lines )\")\n",
    "print(data[0])\n",
    "print(data[1])\n",
    "print(data[2])\n",
    "print(data[3])"
   ]
  },
  {
   "cell_type": "markdown",
   "id": "b3996326",
   "metadata": {},
   "source": [
    "### 3. Replace the missing values in the features with the features’ mean value without using sklearn.\n"
   ]
  },
  {
   "cell_type": "code",
   "execution_count": 5,
   "id": "171045f4",
   "metadata": {},
   "outputs": [
    {
     "name": "stdout",
     "output_type": "stream",
     "text": [
      "Data after replacing missing values ( printing first 4 lines )\n",
      "[0.59 -5.47 -32.03 -37.49 -22.46 0.0]\n",
      "[-1.41 10.53 -32.03 -36.49 41.58 1.0]\n",
      "[0.59 -1.47 0.0 -35.49 -21.78 1.0]\n",
      "[-1.41 7.53 -32.03 -34.49 23.39 1.0]\n"
     ]
    }
   ],
   "source": [
    "for j in range(5):\n",
    "    sum_of_coloumn = 0\n",
    "    cnt_ = 0\n",
    "    for i in range(100):\n",
    "        if data[i,j] is not None:\n",
    "            cnt_ += 1\n",
    "            sum_of_coloumn += data[i,j]\n",
    "    mean_of_column = sum_of_coloumn/cnt_\n",
    "    for i in range(100):\n",
    "        if data[i,j] is None:\n",
    "            data[i,j] = round(mean_of_column,2)\n",
    "            \n",
    "print(\"Data after replacing missing values ( printing first 4 lines )\")\n",
    "print(data[0])\n",
    "print(data[1])\n",
    "print(data[2])\n",
    "print(data[3])"
   ]
  },
  {
   "cell_type": "markdown",
   "id": "f12e2585",
   "metadata": {},
   "source": [
    "### 4. Perform classification (any classification technique) on this data. You can use sklearn for this task.\n"
   ]
  },
  {
   "cell_type": "code",
   "execution_count": 6,
   "id": "c804cba9",
   "metadata": {},
   "outputs": [
    {
     "name": "stdout",
     "output_type": "stream",
     "text": [
      "(100, 5) (100, 1)\n"
     ]
    }
   ],
   "source": [
    "X = np.delete(data,obj = 5,axis = 1)\n",
    "Y = np.delete(data, obj = (0,1,2,3,4), axis = 1)\n",
    "X = X.flatten()\n",
    "X = X.reshape(100,5)\n",
    "print(X.shape,Y.shape)\n"
   ]
  },
  {
   "cell_type": "code",
   "execution_count": 7,
   "id": "22ffed6d",
   "metadata": {},
   "outputs": [
    {
     "name": "stderr",
     "output_type": "stream",
     "text": [
      "/Library/Frameworks/Python.framework/Versions/3.7/lib/python3.7/site-packages/sklearn/preprocessing/_label.py:115: DataConversionWarning: A column-vector y was passed when a 1d array was expected. Please change the shape of y to (n_samples, ), for example using ravel().\n",
      "  y = column_or_1d(y, warn=True)\n",
      "/Library/Frameworks/Python.framework/Versions/3.7/lib/python3.7/site-packages/sklearn/preprocessing/_label.py:133: DataConversionWarning: A column-vector y was passed when a 1d array was expected. Please change the shape of y to (n_samples, ), for example using ravel().\n",
      "  y = column_or_1d(y, warn=True)\n"
     ]
    }
   ],
   "source": [
    "# For splitting of data into train and test set\n",
    "from sklearn.model_selection import train_test_split\n",
    "\n",
    "X_train, X_test, y_train, y_test = train_test_split(X, Y, test_size=0.2, random_state=2)\n",
    "\n",
    "from sklearn import preprocessing\n",
    "from sklearn import utils\n",
    "\n",
    "lab_enc = preprocessing.LabelEncoder()\n",
    "y_train = lab_enc.fit_transform(y_train)\n",
    "y_test = lab_enc.transform(y_test)\n",
    "\n"
   ]
  },
  {
   "cell_type": "markdown",
   "id": "0e143b72",
   "metadata": {},
   "source": [
    "### 5. Print Scores of Model"
   ]
  },
  {
   "cell_type": "code",
   "execution_count": 8,
   "id": "40f8fb8b",
   "metadata": {},
   "outputs": [
    {
     "name": "stdout",
     "output_type": "stream",
     "text": [
      " Score using LogisticRegression :-  0.45\n"
     ]
    }
   ],
   "source": [
    "# 1st we are using Logistic Regression\n",
    "from sklearn.linear_model import LogisticRegression\n",
    "\n",
    "\n",
    "model = LogisticRegression()\n",
    "model.fit(X_train,y_train)\n",
    "\n",
    "\n",
    "print(\" Score using LogisticRegression :- \", +  model.score(X_test,y_test))"
   ]
  },
  {
   "cell_type": "code",
   "execution_count": 9,
   "id": "9115c5ab",
   "metadata": {},
   "outputs": [
    {
     "name": "stdout",
     "output_type": "stream",
     "text": [
      " Score using Support Vector Machines :-  0.55\n"
     ]
    }
   ],
   "source": [
    "# 2nd we are using Support Vector Machines\n",
    "from sklearn.svm import SVC\n",
    "\n",
    "model2 = SVC()\n",
    "model2.fit(X_train,y_train)\n",
    "\n",
    "print(\" Score using Support Vector Machines :- \", + model2.score(X_test,y_test))"
   ]
  },
  {
   "cell_type": "code",
   "execution_count": 10,
   "id": "aa2837c8",
   "metadata": {},
   "outputs": [
    {
     "name": "stdout",
     "output_type": "stream",
     "text": [
      "Score using SGDClassifier :-  0.4\n"
     ]
    }
   ],
   "source": [
    "# 3rd Method\n",
    "from sklearn.linear_model import SGDClassifier as SGC\n",
    "\n",
    "model3 = SGC()\n",
    "model3.fit(X_train,y_train)\n",
    "\n",
    "print(\"Score using SGDClassifier :- \", + model3.score(X_test,y_test))"
   ]
  },
  {
   "cell_type": "code",
   "execution_count": 11,
   "id": "77d022f5",
   "metadata": {},
   "outputs": [
    {
     "name": "stdout",
     "output_type": "stream",
     "text": [
      "Score using KNeighborsClassifier :-  0.45\n"
     ]
    }
   ],
   "source": [
    "from sklearn.neighbors import KNeighborsClassifier as KNN\n",
    "\n",
    "# 4th Method\n",
    "\n",
    "model4 = KNN()\n",
    "model4.fit(X_train,y_train)\n",
    "\n",
    "print( \"Score using KNeighborsClassifier :- \", +model4.score(X_test,y_test))"
   ]
  },
  {
   "cell_type": "markdown",
   "id": "bb18237b",
   "metadata": {},
   "source": [
    "GaussianNB implements the Gaussian Naive Bayes algorithm for classification. The likelihood of the features is assumed to be Gaussian"
   ]
  },
  {
   "cell_type": "code",
   "execution_count": 12,
   "id": "0664f6b1",
   "metadata": {},
   "outputs": [
    {
     "name": "stdout",
     "output_type": "stream",
     "text": [
      "Score using GaussianNB :-  0.65\n"
     ]
    }
   ],
   "source": [
    "from sklearn.naive_bayes import GaussianNB as GNB\n",
    "\n",
    "# 5th Method\n",
    "\n",
    "model5 = GNB()\n",
    "model5.fit(X_train,y_train)\n",
    "\n",
    "print(\"Score using GaussianNB :- \", + model5.score(X_test,y_test))"
   ]
  },
  {
   "cell_type": "code",
   "execution_count": 13,
   "id": "29730e5e",
   "metadata": {},
   "outputs": [
    {
     "name": "stdout",
     "output_type": "stream",
     "text": [
      "Score using DecisionTreeClassifier :-  0.6\n"
     ]
    }
   ],
   "source": [
    "from sklearn.tree import DecisionTreeClassifier as DTC\n",
    "\n",
    "# 6th Method\n",
    "\n",
    "model6 = DTC()\n",
    "model6.fit(X_train,y_train)\n",
    "\n",
    "print(\"Score using DecisionTreeClassifier :- \", + model6.score(X_test,y_test))"
   ]
  },
  {
   "cell_type": "code",
   "execution_count": 14,
   "id": "e9624551",
   "metadata": {},
   "outputs": [
    {
     "name": "stdout",
     "output_type": "stream",
     "text": [
      "Score using MLPClassifier :-  0.5\n"
     ]
    },
    {
     "name": "stderr",
     "output_type": "stream",
     "text": [
      "/Library/Frameworks/Python.framework/Versions/3.7/lib/python3.7/site-packages/sklearn/neural_network/_multilayer_perceptron.py:696: ConvergenceWarning: Stochastic Optimizer: Maximum iterations (200) reached and the optimization hasn't converged yet.\n",
      "  ConvergenceWarning,\n"
     ]
    }
   ],
   "source": [
    "from sklearn.neural_network import MLPClassifier as MLC\n",
    "\n",
    "# 7th Method\n",
    "\n",
    "model7 = MLC()\n",
    "model7.fit(X_train,y_train)\n",
    "\n",
    "print(\"Score using MLPClassifier :- \", +model7.score(X_test,y_test))"
   ]
  },
  {
   "cell_type": "code",
   "execution_count": 15,
   "id": "7cb870c1",
   "metadata": {},
   "outputs": [
    {
     "name": "stdout",
     "output_type": "stream",
     "text": [
      "Score using MLPClassifier :-  0.7\n"
     ]
    }
   ],
   "source": [
    "from sklearn.ensemble import RandomForestClassifier as RFC\n",
    "\n",
    "# 8th Method\n",
    "\n",
    "model8 = RFC()\n",
    "model8.fit(X_train,y_train)\n",
    "\n",
    "print(\"Score using MLPClassifier :- \", + model8.score(X_test,y_test))\n"
   ]
  }
 ],
 "metadata": {
  "kernelspec": {
   "display_name": "Python 3 (ipykernel)",
   "language": "python",
   "name": "python3"
  },
  "language_info": {
   "codemirror_mode": {
    "name": "ipython",
    "version": 3
   },
   "file_extension": ".py",
   "mimetype": "text/x-python",
   "name": "python",
   "nbconvert_exporter": "python",
   "pygments_lexer": "ipython3",
   "version": "3.7.9"
  }
 },
 "nbformat": 4,
 "nbformat_minor": 5
}
